{
 "cells": [
  {
   "cell_type": "code",
   "execution_count": 8,
   "metadata": {},
   "outputs": [
    {
     "name": "stdout",
     "output_type": "stream",
     "text": [
      "Enter 1st number: 5\n",
      "Enter 2nd number: 6\n",
      "sum: 11\n"
     ]
    }
   ],
   "source": [
    "def sum(a,b):\n",
    "    return int(a)+int(b)\n",
    "y=input(\"Enter 1st number: \")\n",
    "x=input(\"Enter 2nd number: \")\n",
    "c=sum(x,y)\n",
    "print(\"sum:\",c)"
   ]
  },
  {
   "cell_type": "code",
   "execution_count": 11,
   "metadata": {},
   "outputs": [
    {
     "name": "stdout",
     "output_type": "stream",
     "text": [
      "------------\n",
      "Hello World\n",
      "------------\n"
     ]
    }
   ],
   "source": [
    "def test1():\n",
    "    print(\"------------\")\n",
    "    print(\"Hello World\")\n",
    "    print(\"------------\")\n",
    "test1()"
   ]
  },
  {
   "cell_type": "code",
   "execution_count": 8,
   "metadata": {},
   "outputs": [
    {
     "name": "stdout",
     "output_type": "stream",
     "text": [
      "Enter 1st number: 6\n",
      "Enter 2nd number: 7\n",
      "The sum of 6 and 7 is 13\n"
     ]
    }
   ],
   "source": [
    "def sum1(a,b):\n",
    "    print (\"The sum of {0} and {1} is\".format(a,b),int(a)+int(b))\n",
    "x=input(\"Enter 1st number: \")\n",
    "y=input(\"Enter 2nd number: \")\n",
    "sum1(x,y)"
   ]
  },
  {
   "cell_type": "code",
   "execution_count": 20,
   "metadata": {},
   "outputs": [
    {
     "name": "stdout",
     "output_type": "stream",
     "text": [
      "Enter a number: 5\n",
      "The square of 5 is 25\n"
     ]
    }
   ],
   "source": [
    "def square1(a):\n",
    "    print(\"The square of\",a,\"is\",int(a)*int(a))\n",
    "b=input(\"Enter a number: \")\n",
    "square1(b)"
   ]
  },
  {
   "cell_type": "code",
   "execution_count": 30,
   "metadata": {},
   "outputs": [
    {
     "name": "stdout",
     "output_type": "stream",
     "text": [
      "Enter First name: Test\n",
      "Enter last name: Test\n",
      "Enter Phone number: \n",
      "First Name: Test \n",
      "Last Name: Test \n",
      "Contact: 98xxxxxxxx\n"
     ]
    }
   ],
   "source": [
    "def contact(fname,lname,phone=\"98xxxxxxxx\"):\n",
    "    print(\"First Name:\",fname,\"\\nLast Name:\",lname,\"\\nContact:\",phone)\n",
    "x=input(\"Enter First name: \")\n",
    "y=input(\"Enter last name: \")\n",
    "z=input(\"Enter Phone number: \")\n",
    "if(z==\"\"):\n",
    "    contact(x,y)\n",
    "else:\n",
    "    contact(x,y,z)"
   ]
  },
  {
   "cell_type": "code",
   "execution_count": 34,
   "metadata": {},
   "outputs": [
    {
     "name": "stdout",
     "output_type": "stream",
     "text": [
      "Hello World\n",
      "Great Job\n",
      "Great World\n"
     ]
    }
   ],
   "source": [
    "def test2(v1=\"Hello\",v2=\"World\"):\n",
    "    print(v1+\" \"+v2)\n",
    "test2()#prints  Hello World\n",
    "test2(v2=\"Job\",v1=\"Great\")#prints Great Job\n",
    "test2(v1=\"Great\")#prints Great World"
   ]
  },
  {
   "cell_type": "code",
   "execution_count": 35,
   "metadata": {},
   "outputs": [
    {
     "name": "stdout",
     "output_type": "stream",
     "text": [
      "20\n"
     ]
    }
   ],
   "source": [
    "def fun(*args):#*args is used to pass dynamic arguments\n",
    "    total =0\n",
    "    for i in args:\n",
    "        total+=i\n",
    "    print(total)\n",
    "fun(1,2,3,3,3,8)"
   ]
  },
  {
   "cell_type": "code",
   "execution_count": 37,
   "metadata": {},
   "outputs": [
    {
     "name": "stdout",
     "output_type": "stream",
     "text": [
      "Before 5 hello\n",
      "6\n",
      "helloWorld\n",
      "After 5 hello\n"
     ]
    }
   ],
   "source": [
    "def fun(x,y):\n",
    "    print(x+1)\n",
    "    print(y+\"World\")\n",
    "x=5\n",
    "y=\"hello\"\n",
    "print(\"Before\",x,y)\n",
    "fun(x,y)\n",
    "print(\"After\",x,y)"
   ]
  },
  {
   "cell_type": "code",
   "execution_count": 40,
   "metadata": {},
   "outputs": [
    {
     "name": "stdout",
     "output_type": "stream",
     "text": [
      "Name : Rohin Awale\n",
      "Phone : 985336662\n",
      "Email : rohin@gmail.com\n"
     ]
    }
   ],
   "source": [
    "def fun1(**kwargs):\n",
    "    for k,v in kwargs.items():\n",
    "        print(k,\":\",v)\n",
    "fun1(Name=\"Rohin Awale\",Phone=\"985336662\",Email=\"rohin@gmail.com\")"
   ]
  },
  {
   "cell_type": "code",
   "execution_count": 45,
   "metadata": {},
   "outputs": [
    {
     "name": "stdout",
     "output_type": "stream",
     "text": [
      "Before  {'a': 1}\n",
      "After {'a': 123}\n"
     ]
    }
   ],
   "source": [
    "def fun2(x):\n",
    "    x.update({\"a\":123})\n",
    "x={\"a\":1}\n",
    "print(\"Before \",x)\n",
    "fun2(x)\n",
    "print(\"After\",x)"
   ]
  },
  {
   "cell_type": "code",
   "execution_count": null,
   "metadata": {},
   "outputs": [],
   "source": []
  }
 ],
 "metadata": {
  "kernelspec": {
   "display_name": "Python 3",
   "language": "python",
   "name": "python3"
  },
  "language_info": {
   "codemirror_mode": {
    "name": "ipython",
    "version": 3
   },
   "file_extension": ".py",
   "mimetype": "text/x-python",
   "name": "python",
   "nbconvert_exporter": "python",
   "pygments_lexer": "ipython3",
   "version": "3.7.1"
  }
 },
 "nbformat": 4,
 "nbformat_minor": 2
}
