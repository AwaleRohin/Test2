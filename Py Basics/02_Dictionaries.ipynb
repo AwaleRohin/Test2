{
 "cells": [
  {
   "cell_type": "markdown",
   "metadata": {},
   "source": [
    "# Dictionary"
   ]
  },
  {
   "cell_type": "markdown",
   "metadata": {},
   "source": [
    "* Dictionary is another useful data type built into Python.\n",
    "* Dictionaries are sometimes found in other languages as \"associative memories\" or \"associative arrays\" or \"Hash Maps\".\n",
    "* Unlike sequences like lists, tuples, sets, which are indexed by a range of numbers, dictionaries are indexed by keys.\n",
    "* Keys in dictionary can be any immutable type (strings, numbers). \n",
    "* Tuples can be used as keys if they contain only strings, numbers, or tuples\n",
    "* But, if a tuple contains any mutable object (list, set) either directly or indirectly, it cannot be used as a key. \n",
    "* Can't use lists as keys, since lists can be modified in place using index assignments, slice assignments, or methods like `append()` and `extend()`."
   ]
  },
  {
   "cell_type": "markdown",
   "metadata": {},
   "source": [
    "* It is best to think of a dictionary as an unordered set of **`key: value`** pairs\n",
    "* The requirement is that the keys are unique (within one dictionary). \n",
    "* A pair of braces creates an empty dictionary: `{}`. \n",
    "* The main operations on a dictionary are storing a value with some key and extracting the value given the key. "
   ]
  },
  {
   "cell_type": "code",
   "execution_count": 7,
   "metadata": {
    "scrolled": true
   },
   "outputs": [
    {
     "name": "stdout",
     "output_type": "stream",
     "text": [
      "<class 'dict'>\n"
     ]
    }
   ],
   "source": [
    "a={\n",
    "    'a':123\n",
    "}\n",
    "print(type(a))"
   ]
  },
  {
   "cell_type": "code",
   "execution_count": 13,
   "metadata": {},
   "outputs": [
    {
     "name": "stdout",
     "output_type": "stream",
     "text": [
      "{'name': 'Python', 'founded': 1980, 'opensource': True, 'version': 3.6, 'properties': ['high-level', 'general-purpose', 'interpreted', 'dynamic'], ('Frameworks',): {'web': ['Django', 'Flask', 'Pyramid'], 'machine_learning': {'PyTorch', 'Scikit-Learn', 'Tensorflow'}}}\n",
      "6\n"
     ]
    }
   ],
   "source": [
    "language = {\n",
    "        \"name\": \"Python\",\n",
    "        \"founded\": 1980,\n",
    "        \"opensource\": True,\n",
    "        \"version\": 3.6,\n",
    "        \"properties\": [\"high-level\", \"general-purpose\", \"interpreted\", \"dynamic\"],\n",
    "        (\"Frameworks\", ): {\n",
    "            \"web\": [\"Django\", \"Flask\", \"Pyramid\"],\n",
    "            \"machine_learning\": {\"Scikit-Learn\", \"PyTorch\", \"Tensorflow\"}\n",
    "        }    \n",
    "    }\n",
    "print(language)\n",
    "print(len(language))"
   ]
  },
  {
   "cell_type": "code",
   "execution_count": null,
   "metadata": {},
   "outputs": [],
   "source": []
  },
  {
   "cell_type": "code",
   "execution_count": 17,
   "metadata": {},
   "outputs": [
    {
     "name": "stdout",
     "output_type": "stream",
     "text": [
      "<class 'dict'>\n",
      "{'Game of Thrones': 9.5, 'Band of Brothers': 9.5, 'The Wire': 9.3, 'The Sopranos': 9.2}\n"
     ]
    }
   ],
   "source": [
    "hbo_hits = [\n",
    "        ('Game of Thrones', 9.5), \n",
    "        ('Band of Brothers', 9.5), \n",
    "        ('The Wire', 9.3), \n",
    "        ('The Sopranos', 9.2)\n",
    "]\n",
    "hbo=dict(hbo_hits)\n",
    "print(type(hbo))\n",
    "print(hbo)"
   ]
  },
  {
   "cell_type": "markdown",
   "metadata": {},
   "source": [
    "## Pretty printing"
   ]
  },
  {
   "cell_type": "code",
   "execution_count": 18,
   "metadata": {
    "scrolled": true
   },
   "outputs": [
    {
     "name": "stdout",
     "output_type": "stream",
     "text": [
      "{   'Band of Brothers': 9.5,\n",
      "    'Game of Thrones': 9.5,\n",
      "    'The Sopranos': 9.2,\n",
      "    'The Wire': 9.3}\n"
     ]
    }
   ],
   "source": [
    "import pprint\n",
    "pp = pprint.PrettyPrinter(indent=4)\n",
    "pp.pprint(hbo)"
   ]
  },
  {
   "cell_type": "markdown",
   "metadata": {},
   "source": [
    "### Accessing"
   ]
  },
  {
   "cell_type": "code",
   "execution_count": 22,
   "metadata": {},
   "outputs": [
    {
     "name": "stdout",
     "output_type": "stream",
     "text": [
      "Python 3.6\n"
     ]
    }
   ],
   "source": [
    "language = {\n",
    "        \"name\": \"Python\",\n",
    "        \"foundend\": 1980,\n",
    "        \"opensource\": True,\n",
    "        \"version\": 3.6,\n",
    "        \"properties\": [\"high-level\", \"general-purpose\", \"interpreted\", \"dynamic\"],\n",
    "        (\"Frameworks\", ): {\n",
    "            \"web\": [\"Django\", \"Flask\", \"Pyramid\"],\n",
    "            \"machine_learning\": {\"Scikit-Learn\", \"PyTorch\", \"Tensorflow\"}\n",
    "        }    \n",
    "    }\n",
    "print(language['name'],language['version'])"
   ]
  },
  {
   "cell_type": "code",
   "execution_count": 29,
   "metadata": {},
   "outputs": [
    {
     "name": "stdout",
     "output_type": "stream",
     "text": [
      "98073XXXXX ['9800000000'] 98402XXXXX\n"
     ]
    }
   ],
   "source": [
    "phone_book = {\n",
    "    \"ram\": [\"98073XXXXX\", \"98402XXXXX\"],\n",
    "    \"hari\": [\"9800000000\"]\n",
    "}\n",
    "print(phone_book['ram'][0],phone_book['hari'],phone_book['ram'][1])"
   ]
  },
  {
   "cell_type": "code",
   "execution_count": 42,
   "metadata": {
    "scrolled": true
   },
   "outputs": [
    {
     "name": "stdout",
     "output_type": "stream",
     "text": [
      "98402XXXXX\n"
     ]
    }
   ],
   "source": [
    "phone_book = {\n",
    "    \"ram\": {\"ncell\": \"98073XXXXX\", \n",
    "              \"ntc\":\"98402XXXXX\"},\n",
    "    \"hari\": [\"9800000000\"]\n",
    "}\n",
    "print(phone_book['ram']['ntc'])"
   ]
  },
  {
   "cell_type": "code",
   "execution_count": 43,
   "metadata": {},
   "outputs": [
    {
     "name": "stdout",
     "output_type": "stream",
     "text": [
      "9.5\n"
     ]
    }
   ],
   "source": [
    "tv_shows = {\n",
    "    \"HBO\": {'The Sopranos': 9.2, 'The Wire': 9.3, 'Band of Brothers': 9.5, 'Game of Thrones': 9.5},\n",
    "    \"AMC\": {\"Breaking Bad\":9.5, \"Better Call Saul\":8.7, \"The Walking Dead\":8.5}\n",
    "}\n",
    "print(tv_shows['HBO']['Band of Brothers'])\n"
   ]
  },
  {
   "cell_type": "code",
   "execution_count": 54,
   "metadata": {},
   "outputs": [
    {
     "name": "stdout",
     "output_type": "stream",
     "text": [
      "98073XXXXX\n",
      "This doesnt exist\n"
     ]
    }
   ],
   "source": [
    "phone_book = {\n",
    "    \"ncell\": \"98073XXXXX\",\n",
    "    \"ntc\":\"98402XXXXX\"\n",
    "}\n",
    "print(phone_book.get('ncell',\"This doesnt exist\"))\n",
    "print(phone_book.get('smartcell',\"This doesnt exist\"))"
   ]
  },
  {
   "cell_type": "markdown",
   "metadata": {},
   "source": [
    "## Inserting"
   ]
  },
  {
   "cell_type": "code",
   "execution_count": 64,
   "metadata": {},
   "outputs": [
    {
     "name": "stdout",
     "output_type": "stream",
     "text": [
      "{'ncell': '98073XXXXX', 'ntc': '98402XXXXX', 'smartcell': '98656563212'}\n"
     ]
    }
   ],
   "source": [
    "phone_book = {\n",
    "    \"ncell\": \"98073XXXXX\",\n",
    "    \"ntc\":\"98402XXXXX\"\n",
    "}\n",
    "phone_book[\"smartcell\"]=\"98656563212\"\n",
    "print(phone_book)"
   ]
  },
  {
   "cell_type": "markdown",
   "metadata": {},
   "source": [
    "## Modifying"
   ]
  },
  {
   "cell_type": "code",
   "execution_count": 66,
   "metadata": {},
   "outputs": [
    {
     "name": "stdout",
     "output_type": "stream",
     "text": [
      "{'ncell': 9813982829, 'ntc': '98402XXXXX'}\n"
     ]
    }
   ],
   "source": [
    "phone_book = {\n",
    "    \"ncell\": \"98073XXXXX\",\n",
    "    \"ntc\":\"98402XXXXX\"\n",
    "}\n",
    "phone_book[\"ncell\"]=9813982829\n",
    "print(phone_book)"
   ]
  },
  {
   "cell_type": "code",
   "execution_count": 69,
   "metadata": {},
   "outputs": [
    {
     "name": "stdout",
     "output_type": "stream",
     "text": [
      "{'ncell': '98073XXXXX', 'ntc': 98605265926}\n"
     ]
    }
   ],
   "source": [
    "phone_book = {\n",
    "    \"ncell\": \"98073XXXXX\",\n",
    "    \"ntc\":\"98402XXXXX\"\n",
    "}\n",
    "phone_book[\"ntc\"]=98605265926\n",
    "print(phone_book)"
   ]
  },
  {
   "cell_type": "code",
   "execution_count": 81,
   "metadata": {},
   "outputs": [
    {
     "name": "stdout",
     "output_type": "stream",
     "text": [
      "{'ncell': 9813982829, 'ntc': '98402XXXXX', 'sky': 941316349}\n"
     ]
    }
   ],
   "source": [
    "phone_book = {\n",
    "    \"ncell\": \"98073XXXXX\",\n",
    "    \"ntc\":\"98402XXXXX\"\n",
    "}\n",
    "\"\"\"if(phone_book.get(\"sky\")):\n",
    "      phone_book[\"sky\"]=983946513\n",
    "else:\n",
    "   phone_book[\"sky\"]=983954656\n",
    "print (phone_book) \"\"\"\n",
    "phone_book.update({'sky':941316349,'ncell':9813982829}) # update() le key cha vaye update huncha chaina vaye insert huncha\n",
    "print (phone_book)"
   ]
  },
  {
   "cell_type": "markdown",
   "metadata": {},
   "source": [
    "## Deleting"
   ]
  },
  {
   "cell_type": "code",
   "execution_count": 89,
   "metadata": {},
   "outputs": [
    {
     "name": "stdout",
     "output_type": "stream",
     "text": [
      "{'ntc': '98402XXXXX', 'sky': '9820######'}\n",
      "98073XXXXX\n",
      "{'ntc': '98402XXXXX', 'sky': '9820######', 'ncell': '98073XXXXX'}\n"
     ]
    }
   ],
   "source": [
    "phone_book = {\n",
    "    \"ncell\": \"98073XXXXX\",\n",
    "    \"ntc\":\"98402XXXXX\",\n",
    "    \"sky\": \"9820######\"\n",
    "}\n",
    "ncell=phone_book.pop(\"ncell\")\n",
    "print(phone_book)\n",
    "phone_book['ncell']=ncell\n",
    "print (ncell)\n",
    "print(phone_book)"
   ]
  },
  {
   "cell_type": "code",
   "execution_count": 88,
   "metadata": {},
   "outputs": [
    {
     "name": "stdout",
     "output_type": "stream",
     "text": [
      "{'ncell': '98073XXXXX', 'ntc': '98402XXXXX'}\n"
     ]
    }
   ],
   "source": [
    "phone_book = {\n",
    "    \"ncell\": \"98073XXXXX\",\n",
    "    \"ntc\":\"98402XXXXX\",\n",
    "    \"sky\": \"9820######\"\n",
    "}\n",
    "del phone_book[\"sky\"]\n",
    "print (phone_book)"
   ]
  },
  {
   "cell_type": "code",
   "execution_count": null,
   "metadata": {},
   "outputs": [],
   "source": [
    "contact = {\n",
    "    \"abc\": 980736000,\n",
    "    \"cde\": 454564564\n",
    "}\n",
    "a=input (\"Enter a name \")\n",
    "print(contact.get(a,\"This contact doesnt exist\"))\n",
    "b=input(\"Enter Contact \")\n",
    "contact.update({a :b})"
   ]
  },
  {
   "cell_type": "markdown",
   "metadata": {},
   "source": [
    "## Other methods"
   ]
  },
  {
   "cell_type": "code",
   "execution_count": null,
   "metadata": {},
   "outputs": [],
   "source": [
    "phone_book = {\n",
    "    \"ncell\": \"98073XXXXX\",\n",
    "    \"ntc\":\"98402XXXXX\",\n",
    "    \"sky\": \"9820######\"\n",
    "}\n",
    "\n"
   ]
  },
  {
   "cell_type": "code",
   "execution_count": null,
   "metadata": {},
   "outputs": [],
   "source": [
    "phone_book = {\n",
    "    \"ncell\": \"98073XXXXX\",\n",
    "    \"ntc\":\"98402XXXXX\",\n",
    "    \"sky\": \"9820######\"\n",
    "}\n",
    "\n"
   ]
  },
  {
   "cell_type": "markdown",
   "metadata": {},
   "source": [
    "## Looping"
   ]
  },
  {
   "cell_type": "code",
   "execution_count": null,
   "metadata": {},
   "outputs": [],
   "source": [
    "hbo_tv_shows = {'The Sopranos': 9.2, 'The Wire': 9.3, 'Band of Brothers': 9.5, 'Game of Thrones': 9.5}\n"
   ]
  },
  {
   "cell_type": "code",
   "execution_count": null,
   "metadata": {},
   "outputs": [],
   "source": [
    "amc_tv_shows = {\"Breaking Bad\":9.5, \"Better Call Saul\":8.7, \"The Walking Dead\":8.5}\n"
   ]
  },
  {
   "cell_type": "code",
   "execution_count": null,
   "metadata": {},
   "outputs": [],
   "source": [
    "tv_shows = {\n",
    "    \"HBO\": {'The Sopranos': 9.2, 'The Wire': 9.3, 'Band of Brothers': 9.5, 'Game of Thrones': 9.5},\n",
    "    \"AMC\": {\"Breaking Bad\":9.5, \"Better Call Saul\":8.7, \"The Walking Dead\":8.5}\n",
    "}\n"
   ]
  },
  {
   "cell_type": "code",
   "execution_count": null,
   "metadata": {},
   "outputs": [],
   "source": [
    "tv_shows = {\n",
    "    \"HBO\": {'The Sopranos': 9.2, 'The Wire': 9.3, 'Band of Brothers': 9.5, 'Game of Thrones': 9.5},\n",
    "    \"AMC\": {\"Breaking Bad\":9.5, \"Better Call Saul\":8.7, \"The Walking Dead\":8.5}\n",
    "}\n",
    "\n",
    "# tv_shows = {\n",
    "#     \"HBO\": {'The Sopranos': 9.2, 'The Wire': 9.3, 'Band of Brothers': 9.5, 'Game of Thrones': 9.5},\n",
    "#     \"AMC\": {\"Breaking Bad\":9.5, \"Better Call Saul\":8.7, \"Walking Dead\":{\"Fear The Walking dead\":7.5, \"The Walking Dead\": 8.5}}\n",
    "# }"
   ]
  },
  {
   "cell_type": "markdown",
   "metadata": {},
   "source": [
    "## Built-in Dictionary Functions & Methods:\n",
    "\n",
    "* `len(dictonary)`\n",
    "* `str(dict)`\n",
    "* `type(variable)`\n",
    "* `dictionary.copy()`\n",
    "* `dictionary.fromkeys(seq,values)`\n",
    "* `dictionary.get(key,default_value)`\n",
    "* `dictionary.has_key(‘key’)`\n",
    "* `dictionary.items()`\n",
    "* `dictionary.keys()`\n",
    "* `dictionary.setdefault(key, default)`\n",
    "* `dictionary.update(dictionary2)`\n",
    "* `dictionary.values()`"
   ]
  },
  {
   "cell_type": "code",
   "execution_count": null,
   "metadata": {},
   "outputs": [],
   "source": []
  },
  {
   "cell_type": "code",
   "execution_count": null,
   "metadata": {},
   "outputs": [],
   "source": []
  },
  {
   "cell_type": "code",
   "execution_count": null,
   "metadata": {},
   "outputs": [],
   "source": []
  }
 ],
 "metadata": {
  "kernelspec": {
   "display_name": "Python 3",
   "language": "python",
   "name": "python3"
  },
  "language_info": {
   "codemirror_mode": {
    "name": "ipython",
    "version": 3
   },
   "file_extension": ".py",
   "mimetype": "text/x-python",
   "name": "python",
   "nbconvert_exporter": "python",
   "pygments_lexer": "ipython3",
   "version": "3.7.1"
  }
 },
 "nbformat": 4,
 "nbformat_minor": 1
}
