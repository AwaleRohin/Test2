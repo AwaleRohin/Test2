{
 "cells": [
  {
   "cell_type": "markdown",
   "metadata": {},
   "source": [
    "# Decision making"
   ]
  },
  {
   "cell_type": "markdown",
   "metadata": {},
   "source": [
    "- Decision structures evaluate multiple expressions which produce `TRUE` or `FALSE` as outcome. \n",
    "- You need to determine which action to take and which statements to execute if outcome is `TRUE` or `FALSE` \n",
    "- Python assumes any non-zero or non-null values as `True`, and if it is either zero or null, then it is assumed as `False`\n",
    "- Python supports following decision making statements:\n",
    "    - if statements\n",
    "    - if...else statements\n",
    "    - Nested if statements\n",
    "- No switch-case statements for python"
   ]
  },
  {
   "cell_type": "markdown",
   "metadata": {},
   "source": [
    "# if statements"
   ]
  },
  {
   "cell_type": "markdown",
   "metadata": {},
   "source": [
    "Syntax\n",
    "\n",
    "```python\n",
    "if expression:\n",
    "       if_suite\n",
    "```\n",
    "\n",
    "- if expression is True or non-zero the if suite is executed. \n",
    "- Suite means the sub-block of code and may contain single or multiple lines of codes"
   ]
  },
  {
   "cell_type": "code",
   "execution_count": 5,
   "metadata": {},
   "outputs": [
    {
     "name": "stdout",
     "output_type": "stream",
     "text": [
      "Enter a password: world!\n",
      "Password matched\n"
     ]
    }
   ],
   "source": [
    "b=\"world\"\n",
    "c=\"world!\"\n",
    "a=input(\"Enter a password: \")\n",
    "if(a==b):\n",
    "    print(\"Password matched\")\n",
    "elif(a==c):\n",
    "    print(\"Password matched\")\n",
    "else:\n",
    "    print(\"Password donot match\")"
   ]
  },
  {
   "cell_type": "code",
   "execution_count": 11,
   "metadata": {},
   "outputs": [
    {
     "name": "stdout",
     "output_type": "stream",
     "text": [
      "Enter a number: 2\n",
      "2 is even\n"
     ]
    }
   ],
   "source": [
    "a=input(\"Enter a number: \")\n",
    "b=int(a)\n",
    "if(b==0):\n",
    "    print(\"Zero is neither odd nor even\")\n",
    "else:\n",
    "    if(b%2==0):\n",
    "        print(b,\"is even\")\n",
    "    else:\n",
    "        print(b,\"is odd\")"
   ]
  },
  {
   "cell_type": "markdown",
   "metadata": {},
   "source": [
    "# if..else statements"
   ]
  },
  {
   "cell_type": "markdown",
   "metadata": {},
   "source": [
    "Syntax:\n",
    "\n",
    "```python\n",
    "if expression1:\n",
    "    if_suite\n",
    "elif expression2:\n",
    "    elif_suite\n",
    "else:\n",
    "    else_suite\n",
    "```"
   ]
  },
  {
   "cell_type": "code",
   "execution_count": 20,
   "metadata": {},
   "outputs": [
    {
     "name": "stdout",
     "output_type": "stream",
     "text": [
      "Enter time: 15\n",
      "Good Day\n"
     ]
    }
   ],
   "source": [
    "a=input(\"Enter time: \")\n",
    "b=int(a)\n",
    "if(b<=11 and b>=0):\n",
    "    print(\"Good Morning\")\n",
    "elif(b>=12 and b<=15):\n",
    "    print(\"Good Day\")\n",
    "elif(b>=16 and b<=18):\n",
    "    print(\"Good evening\")\n",
    "elif(b>=19 and b<=23):\n",
    "    print(\"Good Night\")\n",
    "else:\n",
    "    print(\"Wrong time\")"
   ]
  },
  {
   "cell_type": "code",
   "execution_count": 36,
   "metadata": {},
   "outputs": [
    {
     "name": "stdout",
     "output_type": "stream",
     "text": [
      "Enter a number: 25.5\n",
      "Only interger number Please\n"
     ]
    }
   ],
   "source": [
    "a=input(\"Enter a number: \")\n",
    "try:\n",
    "    b=int(a)\n",
    "    if(b>=0 and b<=200):\n",
    "        if(b<50):\n",
    "            print(b,\"is smaller than 50\")\n",
    "        elif(b<150):\n",
    "            print(b,\"is smaller than 150\")\n",
    "        elif(b<200):\n",
    "            print(b,\"is smaller than 200\")\n",
    "        else:\n",
    "            print(b,\"is equal to 200\")\n",
    "    else:\n",
    "        print(\"Number should be less than 200 and greater than or equal to 0\")\n",
    "except:\n",
    "    print(\"Only interger number Please\")"
   ]
  },
  {
   "cell_type": "markdown",
   "metadata": {},
   "source": [
    "# Nested statements\n",
    "\n",
    "Syntax:\n",
    "```python\n",
    "if expression1:\n",
    "    statement(s)\n",
    "    if expression2:\n",
    "        statement(s)\n",
    "    elif expression3:\n",
    "        statement(s)\n",
    "    else:\n",
    "        statement(s)\n",
    "else:\n",
    "    statement(s)\n",
    "```"
   ]
  },
  {
   "cell_type": "code",
   "execution_count": 27,
   "metadata": {},
   "outputs": [
    {
     "name": "stdout",
     "output_type": "stream",
     "text": [
      "50\n"
     ]
    }
   ],
   "source": [
    "a=50.5\n",
    "b=int(a)\n",
    "print(b)"
   ]
  },
  {
   "cell_type": "code",
   "execution_count": null,
   "metadata": {},
   "outputs": [],
   "source": []
  },
  {
   "cell_type": "code",
   "execution_count": null,
   "metadata": {},
   "outputs": [],
   "source": []
  },
  {
   "cell_type": "markdown",
   "metadata": {},
   "source": [
    "# Ternary\n",
    "- In C programming:\n",
    "```C\n",
    "max = (a > b) ? a : b;\n",
    "```\n",
    "In Python\n",
    "```python\n",
    "max = a if (a > b) else b\n",
    "```\n",
    "\n",
    "\n",
    "- ternary if statement is more than an abbreviation. It is an expression, which can be used within another expression:\n",
    "```python\n",
    "max = (a if (a > b) else b) * 2.45 - 4\n",
    "```"
   ]
  },
  {
   "cell_type": "code",
   "execution_count": 41,
   "metadata": {},
   "outputs": [
    {
     "name": "stdout",
     "output_type": "stream",
     "text": [
      "5\n"
     ]
    }
   ],
   "source": [
    "a=4\n",
    "b=5\n",
    "max = (a if (a > b) else b)\n",
    "print(max)"
   ]
  },
  {
   "cell_type": "code",
   "execution_count": null,
   "metadata": {},
   "outputs": [],
   "source": []
  },
  {
   "cell_type": "markdown",
   "metadata": {},
   "source": [
    "Q1. We have v=u+at where v is velocity, u is initial velocity, and t is time. And value for each is as\n",
    "follows: v=25m/s. u=0m/s, t=10 seconds. Find the acceleration a. [Rearrange the equation, also use\n",
    "proper formatting syntax while displaying the answer.]\n",
    "\n",
    "\n",
    "Q2. Get first name and last name from a user and concatenate them to make a full name.\n",
    "\n",
    "\n",
    "Q3. Take an arbitrary input string from user and print it 10 times.\n",
    "\n",
    "\n",
    "Q4. Override ending argument in print function to print \"**\" at the end.\n",
    "\n",
    "\n",
    "Q5. Write a program that takes three numbers and prints their sum. Every number is given on a separate line. "
   ]
  },
  {
   "cell_type": "markdown",
   "metadata": {},
   "source": [
    "Write a program which accepts a sequence of comma-separated numbers from console and generate a list and a tuple which contains every number.\n",
    "Suppose the following input is supplied to the program:\n",
    "\n",
    "34,67,55,33,12,98\n",
    "\n",
    "Then, the output should be:\n",
    "\n",
    "['34', '67', '55', '33', '12', '98']\n",
    "\n",
    "('34', '67', '55', '33', '12', '98')"
   ]
  },
  {
   "cell_type": "markdown",
   "metadata": {},
   "source": [
    "Write a program that accepts a sequence of whitespace separated words as input and prints the words \n",
    "\n",
    "after removing all duplicate words and sorting them alphanumerically.\n",
    "\n",
    "Suppose the following input is supplied to the program:\n",
    "\n",
    "**hello world and practice makes perfect and hello world again**\n",
    "\n",
    "Then, the output should be:\n",
    "**again and hello makes perfect practice world**"
   ]
  },
  {
   "cell_type": "code",
   "execution_count": 45,
   "metadata": {},
   "outputs": [
    {
     "name": "stdout",
     "output_type": "stream",
     "text": [
      "2.5 m^2/s\n"
     ]
    }
   ],
   "source": [
    "v=25\n",
    "u=0 \n",
    "t=10\n",
    "a=(v-u)/t\n",
    "print(a,\"m^2/s\")"
   ]
  },
  {
   "cell_type": "code",
   "execution_count": 3,
   "metadata": {},
   "outputs": [
    {
     "name": "stdout",
     "output_type": "stream",
     "text": [
      "Enter First Name: Rohin\n",
      "Enter Last Name: Awale\n",
      "Rohin Awale\n"
     ]
    }
   ],
   "source": [
    "a=input(\"Enter First Name: \")\n",
    "b=input(\"Enter Last Name: \")\n",
    "c=a+\" \"+b\n",
    "print(c)"
   ]
  },
  {
   "cell_type": "code",
   "execution_count": 4,
   "metadata": {},
   "outputs": [
    {
     "name": "stdout",
     "output_type": "stream",
     "text": [
      "Enter a stringTest\n",
      "Test\n",
      "Test\n",
      "Test\n",
      "Test\n",
      "Test\n",
      "Test\n",
      "Test\n",
      "Test\n",
      "Test\n",
      "Test\n"
     ]
    }
   ],
   "source": [
    "a=input(\"Enter a string\")\n",
    "for i in range(0,10):\n",
    "    print(a)"
   ]
  },
  {
   "cell_type": "code",
   "execution_count": 7,
   "metadata": {},
   "outputs": [
    {
     "name": "stdout",
     "output_type": "stream",
     "text": [
      "Enter First Number: r\n",
      "Enter Second Number: 9\n",
      "Enter Last Number: 1\n",
      "Please enter integer numbers only\n"
     ]
    }
   ],
   "source": [
    "a=input(\"Enter First Number: \")\n",
    "b=input(\"Enter Second Number: \")\n",
    "c=input(\"Enter Last Number: \")\n",
    "try:\n",
    "    sum=int(a)+int(b)+int(c)\n",
    "    print(sum)\n",
    "except:\n",
    "    print(\"Please enter integer numbers only\")"
   ]
  },
  {
   "cell_type": "code",
   "execution_count": 8,
   "metadata": {},
   "outputs": [
    {
     "name": "stdout",
     "output_type": "stream",
     "text": [
      "Enter a stringrohin\n",
      "rohin**\n"
     ]
    }
   ],
   "source": [
    "a=input(\"Enter a string: \")\n",
    "def star():\n",
    "    print(a+\"**\")\n",
    "star()"
   ]
  },
  {
   "cell_type": "code",
   "execution_count": 1,
   "metadata": {},
   "outputs": [
    {
     "name": "stdout",
     "output_type": "stream",
     "text": [
      "Input numbers seperated by commas36,38,39,40\n",
      "['36', '38', '39', '40']\n",
      "('36', '38', '39', '40')\n"
     ]
    }
   ],
   "source": [
    "a=input(\"Input numbers seperated by commas\")\n",
    "c=a.split(',')\n",
    "b=tuple(c)\n",
    "print(c)\n",
    "print(b)"
   ]
  },
  {
   "cell_type": "code",
   "execution_count": null,
   "metadata": {},
   "outputs": [],
   "source": [
    "a=input(\"Enter a string\")\n",
    "b=sorted(a)\n",
    "print(b)"
   ]
  },
  {
   "cell_type": "code",
   "execution_count": null,
   "metadata": {},
   "outputs": [],
   "source": []
  }
 ],
 "metadata": {
  "kernelspec": {
   "display_name": "Python 3",
   "language": "python",
   "name": "python3"
  },
  "language_info": {
   "codemirror_mode": {
    "name": "ipython",
    "version": 3
   },
   "file_extension": ".py",
   "mimetype": "text/x-python",
   "name": "python",
   "nbconvert_exporter": "python",
   "pygments_lexer": "ipython3",
   "version": "3.7.1"
  }
 },
 "nbformat": 4,
 "nbformat_minor": 1
}
