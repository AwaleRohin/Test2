{
 "cells": [
  {
   "cell_type": "markdown",
   "metadata": {},
   "source": [
    "# Datastructures"
   ]
  },
  {
   "cell_type": "markdown",
   "metadata": {
    "collapsed": true
   },
   "source": [
    "## The builtins data structures are: lists, tuples, sets and dictionaries\n",
    "\n",
    "* Lists, tuples and sets are ordered sequences of objects. (like strings)\n",
    "* List and tuples can contain any type of objects. \n",
    "* Lists and tuples are like arrays. \n",
    "* Tuples are immutables whereas lists are mutables so they can be extended or reduced at will. \n",
    "* Sets are mutable unordered sequence of unique elements whereas frozensets are immutable sets."
   ]
  },
  {
   "cell_type": "markdown",
   "metadata": {},
   "source": [
    "# LIST"
   ]
  },
  {
   "cell_type": "markdown",
   "metadata": {},
   "source": [
    "You can define an empty list by using two enclosing square brackets `[]`. Just like array in other programming language. Or you can use `list()` method without any arguments and assign it to a variable."
   ]
  },
  {
   "cell_type": "code",
   "execution_count": 1,
   "metadata": {},
   "outputs": [
    {
     "name": "stdout",
     "output_type": "stream",
     "text": [
      "0 | 0 | <class 'list'>\n"
     ]
    }
   ],
   "source": [
    "# defining a empty list\n",
    "\n",
    "my_list_1 = []\n",
    "my_list_2 = list()\n",
    "\n",
    "print(len(my_list_1), len(my_list_2), type(my_list_1), sep=\" | \")"
   ]
  },
  {
   "cell_type": "code",
   "execution_count": 2,
   "metadata": {},
   "outputs": [
    {
     "name": "stdout",
     "output_type": "stream",
     "text": [
      "[123]\n"
     ]
    }
   ],
   "source": [
    "l = list()\n",
    "l.append(123)\n",
    "print(l)"
   ]
  },
  {
   "cell_type": "markdown",
   "metadata": {},
   "source": [
    "List is like an array but unlike other programming languages, list can contain any type of objects.\n"
   ]
  },
  {
   "cell_type": "code",
   "execution_count": 3,
   "metadata": {},
   "outputs": [
    {
     "name": "stdout",
     "output_type": "stream",
     "text": [
      "['Hello', 1, True, [5.0, 2.5], None]\n"
     ]
    }
   ],
   "source": [
    "any_obj_list = [\"Hello\", 1, True, [5.0, 5/2], None]\n",
    "print(any_obj_list)"
   ]
  },
  {
   "cell_type": "code",
   "execution_count": 4,
   "metadata": {},
   "outputs": [
    {
     "name": "stdout",
     "output_type": "stream",
     "text": [
      "['OOP', 'CSA', 'NM', 'MGMT', 'OS']\n"
     ]
    }
   ],
   "source": [
    "# This is a list of Strings\n",
    "comp = [\"OOP\", \"CSA\", \"NM\", \"MGMT\", \"OS\"]\n",
    "print(comp)"
   ]
  },
  {
   "cell_type": "code",
   "execution_count": 5,
   "metadata": {
    "scrolled": true
   },
   "outputs": [
    {
     "name": "stdout",
     "output_type": "stream",
     "text": [
      "5\n"
     ]
    }
   ],
   "source": [
    "# len() gives how many values are there inside a list\n",
    "print(len(comp))"
   ]
  },
  {
   "cell_type": "code",
   "execution_count": 6,
   "metadata": {},
   "outputs": [
    {
     "name": "stdout",
     "output_type": "stream",
     "text": [
      "OS\n"
     ]
    }
   ],
   "source": [
    "# Accessing by index\n",
    "comp = [\"OOP\", \"CSA\", \"NM\", \"MGMT\", \"OS\"]\n",
    "print(comp[len(comp)-1])"
   ]
  },
  {
   "cell_type": "code",
   "execution_count": 7,
   "metadata": {},
   "outputs": [
    {
     "name": "stdout",
     "output_type": "stream",
     "text": [
      "OS\n",
      "OOP\n"
     ]
    }
   ],
   "source": [
    "# Last value is accessed by -1\n",
    "comp = [\"OOP\", \"CSA\", \"NM\", \"MGMT\", \"OS\"]\n",
    "print(comp[-1])\n",
    "print(comp[-5])"
   ]
  },
  {
   "cell_type": "code",
   "execution_count": 8,
   "metadata": {},
   "outputs": [
    {
     "ename": "IndexError",
     "evalue": "list index out of range",
     "output_type": "error",
     "traceback": [
      "\u001b[0;31m---------------------------------------------------------------------------\u001b[0m",
      "\u001b[0;31mIndexError\u001b[0m                                Traceback (most recent call last)",
      "\u001b[0;32m<ipython-input-8-e1e21d3334a7>\u001b[0m in \u001b[0;36m<module>\u001b[0;34m\u001b[0m\n\u001b[1;32m      1\u001b[0m \u001b[0;31m# IndexError exception while trying to access index that doesn't exist\u001b[0m\u001b[0;34m\u001b[0m\u001b[0;34m\u001b[0m\u001b[0m\n\u001b[1;32m      2\u001b[0m \u001b[0mcomp\u001b[0m \u001b[0;34m=\u001b[0m \u001b[0;34m[\u001b[0m\u001b[0;34m\"OOP\"\u001b[0m\u001b[0;34m,\u001b[0m \u001b[0;34m\"CSA\"\u001b[0m\u001b[0;34m,\u001b[0m \u001b[0;34m\"NM\"\u001b[0m\u001b[0;34m,\u001b[0m \u001b[0;34m\"MGMT\"\u001b[0m\u001b[0;34m,\u001b[0m \u001b[0;34m\"OS\"\u001b[0m\u001b[0;34m]\u001b[0m\u001b[0;34m\u001b[0m\u001b[0m\n\u001b[0;32m----> 3\u001b[0;31m \u001b[0mprint\u001b[0m\u001b[0;34m(\u001b[0m\u001b[0mcomp\u001b[0m\u001b[0;34m[\u001b[0m\u001b[0;36m20\u001b[0m\u001b[0;34m]\u001b[0m\u001b[0;34m)\u001b[0m\u001b[0;34m\u001b[0m\u001b[0m\n\u001b[0m",
      "\u001b[0;31mIndexError\u001b[0m: list index out of range"
     ]
    }
   ],
   "source": [
    "# IndexError exception while trying to access index that doesn't exist\n",
    "comp = [\"OOP\", \"CSA\", \"NM\", \"MGMT\", \"OS\"]\n",
    "print(comp[20])"
   ]
  },
  {
   "cell_type": "markdown",
   "metadata": {},
   "source": [
    "## Slicing"
   ]
  },
  {
   "cell_type": "code",
   "execution_count": 9,
   "metadata": {
    "scrolled": true
   },
   "outputs": [
    {
     "name": "stdout",
     "output_type": "stream",
     "text": [
      "['OOP', 'CSA']\n",
      "['OOP', 'CSA', 'NM', 'MGMT', 'OS']\n",
      "['OOP', 'CSA']\n",
      "['NM', 'MGMT', 'OS']\n"
     ]
    }
   ],
   "source": [
    "comp = [\"OOP\", \"CSA\", \"NM\", \"MGMT\", \"OS\"]\n",
    "print(comp[0:2])\n",
    "print(comp[:])\n",
    "print(comp[:2])\n",
    "print(comp[2:])"
   ]
  },
  {
   "cell_type": "code",
   "execution_count": 10,
   "metadata": {},
   "outputs": [
    {
     "data": {
      "text/plain": [
       "'Hel'"
      ]
     },
     "execution_count": 10,
     "metadata": {},
     "output_type": "execute_result"
    }
   ],
   "source": [
    "# Slicing can be done in string as well because string is also squence of characters.\n",
    "a = \"Hello\"\n",
    "a[0:3]"
   ]
  },
  {
   "cell_type": "code",
   "execution_count": 23,
   "metadata": {},
   "outputs": [
    {
     "name": "stdout",
     "output_type": "stream",
     "text": [
      "[0, 1, 2, 3, 4, 5, 6, 7, 8, 9]\n",
      "2\n",
      "8\n",
      "[2, 3, 4, 5, 6, 7, 8, 9]\n",
      "[0, 1]\n",
      "[2, 3, 4, 5]\n",
      "[2, 3, 4, 5, 6, 7]\n",
      "[4, 5, 6, 7]\n",
      "[0, 1, 2, 3, 4, 5, 6, 7, 8, 9]\n",
      "[0, 2, 4, 6, 8]\n",
      "[2, 4, 6, 8]\n",
      "[0, 2, 4]\n",
      "[2, 4]\n",
      "[9, 7, 5, 3, 1]\n",
      "[9, 8, 7, 6, 5, 4, 3, 2, 1, 0]\n"
     ]
    }
   ],
   "source": [
    "# Let's look at all the possible slicing and pay high attention to the output\n",
    "a = list(range(10))\n",
    "print(a)\n",
    "print(a[2])\n",
    "print(a[-2])\n",
    "print(a[2:])\n",
    "print(a[:2])\n",
    "print(a[2:6])\n",
    "print(a[2:-2])\n",
    "print(a[-6:-2])\n",
    "print(a[:])\n",
    "print(a[::2])\n",
    "print(a[2::2])\n",
    "print(a[:6:2])\n",
    "print(a[2:6:2])\n",
    "print(a[::-2])\n",
    "print(a[::-1])"
   ]
  },
  {
   "cell_type": "code",
   "execution_count": 26,
   "metadata": {},
   "outputs": [
    {
     "name": "stdout",
     "output_type": "stream",
     "text": [
      "[9, 8, 7, 6, 5, 4, 3]\n"
     ]
    }
   ],
   "source": [
    "print(a[9:2:-1])"
   ]
  },
  {
   "cell_type": "markdown",
   "metadata": {},
   "source": [
    "# List methods\n",
    "Everyting in Python is an object and List is also definately an object. Hence, in OOP concept, object are likely to have a methods (behaviour)"
   ]
  },
  {
   "cell_type": "code",
   "execution_count": 12,
   "metadata": {},
   "outputs": [
    {
     "data": {
      "text/plain": [
       "list"
      ]
     },
     "execution_count": 12,
     "metadata": {},
     "output_type": "execute_result"
    }
   ],
   "source": [
    "a = []\n",
    "type(a)"
   ]
  },
  {
   "cell_type": "code",
   "execution_count": 13,
   "metadata": {},
   "outputs": [
    {
     "name": "stdout",
     "output_type": "stream",
     "text": [
      "2\n"
     ]
    },
    {
     "ename": "ValueError",
     "evalue": "'XYZ' is not in list",
     "output_type": "error",
     "traceback": [
      "\u001b[0;31m---------------------------------------------------------------------------\u001b[0m",
      "\u001b[0;31mValueError\u001b[0m                                Traceback (most recent call last)",
      "\u001b[0;32m<ipython-input-13-7a7c27a9595e>\u001b[0m in \u001b[0;36m<module>\u001b[0;34m\u001b[0m\n\u001b[1;32m      4\u001b[0m \u001b[0;34m\u001b[0m\u001b[0m\n\u001b[1;32m      5\u001b[0m \u001b[0;31m# Throws ValueError if not in list\u001b[0m\u001b[0;34m\u001b[0m\u001b[0;34m\u001b[0m\u001b[0m\n\u001b[0;32m----> 6\u001b[0;31m \u001b[0mprint\u001b[0m\u001b[0;34m(\u001b[0m\u001b[0mcomp\u001b[0m\u001b[0;34m.\u001b[0m\u001b[0mindex\u001b[0m\u001b[0;34m(\u001b[0m\u001b[0;34m\"XYZ\"\u001b[0m\u001b[0;34m)\u001b[0m\u001b[0;34m)\u001b[0m\u001b[0;34m\u001b[0m\u001b[0m\n\u001b[0m",
      "\u001b[0;31mValueError\u001b[0m: 'XYZ' is not in list"
     ]
    }
   ],
   "source": [
    "# index(arg) method is used to find the index of an element in the list\n",
    "comp = [\"OOP\", \"CSA\", \"NM\", \"MGMT\", \"OS\"]\n",
    "print(comp.index(\"NM\"))\n",
    "\n",
    "# Throws ValueError if not in list\n",
    "print(comp.index(\"XYZ\"))"
   ]
  },
  {
   "cell_type": "code",
   "execution_count": 14,
   "metadata": {},
   "outputs": [
    {
     "name": "stdout",
     "output_type": "stream",
     "text": [
      "['OOP', 'CSA', 'NM', 'MGMT', 'OS']\n",
      "['OOP', 'CSA', 'NM', 'MGMT', 'OS', 'Python', 'English']\n"
     ]
    }
   ],
   "source": [
    "\"\"\"\n",
    "append(arg) method is used to add element in the list. \n",
    "While adding a new element using append method, the newly \n",
    "added element is added at the end of the list.\n",
    "Adding an element in a list\n",
    "\"\"\" \n",
    "print(comp)\n",
    "comp.append(\"Python\")\n",
    "comp.append(\"English\")\n",
    "print(comp)"
   ]
  },
  {
   "cell_type": "code",
   "execution_count": 15,
   "metadata": {},
   "outputs": [
    {
     "name": "stdout",
     "output_type": "stream",
     "text": [
      "['OOP', 'CSA', 'NM', 'MGMT', 'OS']\n",
      "['English', 'OOP', 'CSA', 'NM', 'MGMT', 'OS', 'Python']\n",
      "6\n"
     ]
    }
   ],
   "source": [
    "\"\"\"\n",
    "insert() method is used to insert an element in a particular index of the list.\n",
    "\"\"\"\n",
    "comp = [\"OOP\", \"CSA\", \"NM\", \"MGMT\", \"OS\"]\n",
    "print(comp)\n",
    "\n",
    "comp.insert(20, \"Python\") # even if you add element in larger index, it'll always be added at the end the list\n",
    "comp.insert(0, \"English\") \n",
    "\n",
    "print(comp)\n",
    "print(comp.index(\"Python\"))"
   ]
  },
  {
   "cell_type": "code",
   "execution_count": 16,
   "metadata": {},
   "outputs": [
    {
     "name": "stdout",
     "output_type": "stream",
     "text": [
      "['OOP', 'CSA', 'NM', 'MGMT', 'OS', ['Python', 'English']]\n"
     ]
    }
   ],
   "source": [
    "comp = [\"OOP\", \"CSA\", \"NM\", \"MGMT\", \"OS\"]\n",
    "extra = [\"Python\", \"English\"]\n",
    "comp.append(extra) # wrong implementation because it'll just add the whole list at the end of the comp list\n",
    "print(comp)"
   ]
  },
  {
   "cell_type": "code",
   "execution_count": 17,
   "metadata": {},
   "outputs": [
    {
     "name": "stdout",
     "output_type": "stream",
     "text": [
      "['OOP', 'CSA', 'NM', 'MGMT', 'OS', 'Python', 'English']\n",
      "[1, 2, 3]\n",
      "[1, 2, 3, 'a', 'b']\n"
     ]
    }
   ],
   "source": [
    "\"\"\"\n",
    "If you want to merge two list together, you can use extend() method.\n",
    "\"\"\"\n",
    "comp = [\"OOP\", \"CSA\", \"NM\", \"MGMT\", \"OS\"]\n",
    "extra = [\"Python\", \"English\"]\n",
    "comp.extend(extra)\n",
    "print(comp)\n",
    "\n",
    "x = [1,2,3]\n",
    "y = [\"a\", \"b\"]\n",
    "print(x)\n",
    "x.extend(y)\n",
    "print(x)"
   ]
  },
  {
   "cell_type": "code",
   "execution_count": 18,
   "metadata": {},
   "outputs": [
    {
     "name": "stdout",
     "output_type": "stream",
     "text": [
      "['OOP', 'CSA', 'NM', 'MGMT', 'OS', 'Python', 'English']\n"
     ]
    }
   ],
   "source": [
    "\"\"\"\n",
    "extending a list by using extend method can also be done via the \"+\" operator.\n",
    "\"\"\"\n",
    "comp = [\"OOP\", \"CSA\", \"NM\", \"MGMT\", \"OS\"]\n",
    "extra = [\"Python\", \"English\"]\n",
    "comp += extra\n",
    "print(comp)\n"
   ]
  },
  {
   "cell_type": "code",
   "execution_count": 19,
   "metadata": {},
   "outputs": [
    {
     "name": "stdout",
     "output_type": "stream",
     "text": [
      "['CSA', 'NM', 'MGMT', 'OS']\n",
      "0\n"
     ]
    }
   ],
   "source": [
    "comp = [\"OOP\", \"CSA\", \"NM\", \"MGMT\", \"OS\"]\n",
    "comp.remove(\"OOP\")\n",
    "print(comp)\n",
    "print(comp.index(\"CSA\"))"
   ]
  },
  {
   "cell_type": "markdown",
   "metadata": {},
   "source": [
    "\n",
    "## List as a Stack"
   ]
  },
  {
   "cell_type": "code",
   "execution_count": 20,
   "metadata": {
    "scrolled": true
   },
   "outputs": [
    {
     "name": "stdout",
     "output_type": "stream",
     "text": [
      "Popped :  CSA\n",
      "['OOP', 'NM', 'MGMT', 'OS', 'XYZ']\n"
     ]
    }
   ],
   "source": [
    "\"\"\"\n",
    "List data structure can be used to simulate the stack data structure.\n",
    "For this, to extract the topmost element in the list, you can use pop() method.\n",
    "pop() method always returns last value in the list like in stack.\n",
    "Note: pop() method manipulates the list.\n",
    "\"\"\"\n",
    "comp = [\"OOP\", \"CSA\", \"NM\", \"MGMT\", \"OS\", \"XYZ\"]\n",
    "popped = comp.pop(1)\n",
    "print(\"Popped : \", popped)\n",
    "print(comp)\n",
    "# comp.push() -> comp.append(value)"
   ]
  },
  {
   "cell_type": "markdown",
   "metadata": {},
   "source": [
    "## Other important methods"
   ]
  },
  {
   "cell_type": "code",
   "execution_count": 4,
   "metadata": {
    "scrolled": true
   },
   "outputs": [
    {
     "name": "stdout",
     "output_type": "stream",
     "text": [
      "[9, 8, 7, 6, 5]\n",
      "['x', 'm', 'b', 'a']\n"
     ]
    }
   ],
   "source": [
    "x=[5,6,7,8,9]\n",
    "x.sort(reverse=True)\n",
    "print (x)\n",
    "y=['a','b','x','m']\n",
    "y.sort(reverse=True)\n",
    "print(y)\n",
    "z=[1,2,3,'m','a']\n",
    "#z.sort() cannot sort different datatypes"
   ]
  },
  {
   "cell_type": "code",
   "execution_count": 5,
   "metadata": {},
   "outputs": [
    {
     "name": "stdout",
     "output_type": "stream",
     "text": [
      "[9, 8, 7, 6, 5]\n",
      "[5, 6, 7, 8, 9]\n"
     ]
    }
   ],
   "source": [
    "x=[5,6,7,8,9]\n",
    "#sort() cannot be assigned \n",
    "#so we use sorted()\n",
    "sorted_x= sorted(x,reverse=True)\n",
    "print (sorted_x)\n",
    "print(x)"
   ]
  },
  {
   "cell_type": "code",
   "execution_count": null,
   "metadata": {},
   "outputs": [],
   "source": []
  },
  {
   "cell_type": "code",
   "execution_count": null,
   "metadata": {},
   "outputs": [],
   "source": []
  },
  {
   "cell_type": "markdown",
   "metadata": {},
   "source": [
    "## Operations"
   ]
  },
  {
   "cell_type": "code",
   "execution_count": 6,
   "metadata": {},
   "outputs": [
    {
     "data": {
      "text/plain": [
       "35"
      ]
     },
     "execution_count": 6,
     "metadata": {},
     "output_type": "execute_result"
    }
   ],
   "source": [
    "max(x)\n",
    "sum(x)\n"
   ]
  },
  {
   "cell_type": "code",
   "execution_count": 7,
   "metadata": {},
   "outputs": [
    {
     "data": {
      "text/plain": [
       "'r'"
      ]
     },
     "execution_count": 7,
     "metadata": {},
     "output_type": "execute_result"
    }
   ],
   "source": [
    "max('Hello World')"
   ]
  },
  {
   "cell_type": "code",
   "execution_count": 10,
   "metadata": {},
   "outputs": [
    {
     "name": "stdout",
     "output_type": "stream",
     "text": [
      "False\n"
     ]
    }
   ],
   "source": [
    "# Check whether an element is in the list or not\n",
    "print(1 in x)"
   ]
  },
  {
   "cell_type": "markdown",
   "metadata": {},
   "source": [
    "## Looping over a List"
   ]
  },
  {
   "cell_type": "code",
   "execution_count": 14,
   "metadata": {},
   "outputs": [
    {
     "name": "stdout",
     "output_type": "stream",
     "text": [
      "5\t6\t7\t8\t9\t"
     ]
    }
   ],
   "source": [
    "for numbers in x:\n",
    "    print(numbers,end='\\t')"
   ]
  },
  {
   "cell_type": "code",
   "execution_count": 15,
   "metadata": {},
   "outputs": [
    {
     "name": "stdout",
     "output_type": "stream",
     "text": [
      "0 5\n",
      "1 6\n",
      "2 7\n",
      "3 8\n",
      "4 9\n"
     ]
    }
   ],
   "source": [
    "#to loop through index and elements\n",
    "#enumerate() helps to loop through index and elements\n",
    "for index, numbers in enumerate(x):\n",
    "    print(index,numbers)"
   ]
  },
  {
   "cell_type": "code",
   "execution_count": 18,
   "metadata": {},
   "outputs": [
    {
     "name": "stdout",
     "output_type": "stream",
     "text": [
      "100 a\n",
      "101 b\n",
      "102 c\n"
     ]
    }
   ],
   "source": [
    "y=['a','b','c']\n",
    "for index, char in enumerate(y, start=100):\n",
    "    print(index,char)"
   ]
  },
  {
   "cell_type": "markdown",
   "metadata": {},
   "source": [
    "## Joining elements in a list"
   ]
  },
  {
   "cell_type": "code",
   "execution_count": 22,
   "metadata": {},
   "outputs": [],
   "source": [
    "comp = ['OOP','CA','NM','CS','MGMT','OS']"
   ]
  },
  {
   "cell_type": "code",
   "execution_count": 24,
   "metadata": {},
   "outputs": [
    {
     "name": "stdout",
     "output_type": "stream",
     "text": [
      "OOP+CA+NM+CS+MGMT+OS\n",
      "OOP+CA+NM+CS+MGMT+OS\n"
     ]
    }
   ],
   "source": [
    "# You can olny join list of Strings\n",
    "print(\"+\".join(comp))\n",
    "comp1=\"+\".join(comp)\n",
    "print(comp1)"
   ]
  },
  {
   "cell_type": "code",
   "execution_count": 29,
   "metadata": {},
   "outputs": [
    {
     "name": "stdout",
     "output_type": "stream",
     "text": [
      "['this', 'is', 'beautiful']\n"
     ]
    }
   ],
   "source": [
    "comp1.split('+')\n",
    "a='this is beautiful'\n",
    "b=a.split(' ')\n",
    "print(b)"
   ]
  },
  {
   "cell_type": "markdown",
   "metadata": {},
   "source": [
    "## Lists are mutable"
   ]
  },
  {
   "cell_type": "code",
   "execution_count": 30,
   "metadata": {},
   "outputs": [
    {
     "name": "stdout",
     "output_type": "stream",
     "text": [
      "['ENG', 'CA', 'NM', 'CS', 'MGMT', 'OS']\n"
     ]
    }
   ],
   "source": [
    "comp[0]='ENG'\n",
    "print(comp)"
   ]
  },
  {
   "cell_type": "code",
   "execution_count": 36,
   "metadata": {
    "scrolled": true
   },
   "outputs": [
    {
     "name": "stdout",
     "output_type": "stream",
     "text": [
      "[2, 'a', True]\n"
     ]
    }
   ],
   "source": [
    "list1 = [1,'a',True]\n",
    "list2 = list1\n",
    "list1 is list2\n",
    "list2[0] = 2\n",
    "print(list1)\n",
    "#study deep copy and shallow copy"
   ]
  },
  {
   "cell_type": "markdown",
   "metadata": {},
   "source": [
    "## Multidimension List"
   ]
  },
  {
   "cell_type": "code",
   "execution_count": 39,
   "metadata": {},
   "outputs": [
    {
     "name": "stdout",
     "output_type": "stream",
     "text": [
      "[[1, 2, 3], [4, 5, 6]]\n"
     ]
    }
   ],
   "source": [
    "a=[\n",
    "    [1,2,3],\n",
    "    [4,5,6]\n",
    "]\n",
    "print(a)"
   ]
  },
  {
   "cell_type": "markdown",
   "metadata": {},
   "source": [
    "## How many?"
   ]
  },
  {
   "cell_type": "code",
   "execution_count": 42,
   "metadata": {},
   "outputs": [
    {
     "data": {
      "text/plain": [
       "0"
      ]
     },
     "execution_count": 42,
     "metadata": {},
     "output_type": "execute_result"
    }
   ],
   "source": [
    "x=[1,2,3,1,4,4,1,5,9,9,7]\n",
    "x.count(45)"
   ]
  },
  {
   "cell_type": "code",
   "execution_count": 43,
   "metadata": {},
   "outputs": [
    {
     "data": {
      "text/plain": [
       "[1, 2, 3, 1, 4, 4, 1, 5, 9, 9, 7, 1, 2, 3, 1, 4, 4, 1, 5, 9, 9, 7]"
      ]
     },
     "execution_count": 43,
     "metadata": {},
     "output_type": "execute_result"
    }
   ],
   "source": [
    "x*2"
   ]
  },
  {
   "cell_type": "code",
   "execution_count": null,
   "metadata": {},
   "outputs": [],
   "source": []
  },
  {
   "cell_type": "markdown",
   "metadata": {},
   "source": [
    "# Tuple"
   ]
  },
  {
   "cell_type": "markdown",
   "metadata": {},
   "source": [
    "Tuple is very similar to the list data structure but, tuples are immutable. [Can't be changed]"
   ]
  },
  {
   "cell_type": "code",
   "execution_count": 47,
   "metadata": {},
   "outputs": [
    {
     "name": "stdout",
     "output_type": "stream",
     "text": [
      "0\n",
      "<class 'tuple'>\n"
     ]
    }
   ],
   "source": [
    "# Empty tuple\n",
    "tuple1 = ()\n",
    "tuple2 = tuple()\n",
    "print(len(tuple1))\n",
    "print(type(tuple2))"
   ]
  },
  {
   "cell_type": "code",
   "execution_count": 49,
   "metadata": {},
   "outputs": [
    {
     "name": "stdout",
     "output_type": "stream",
     "text": [
      "(1, 2, 3, 4, 5)\n"
     ]
    }
   ],
   "source": [
    "tup =(1,2,3)\n",
    "tup1= 1,2,3,4,5\n",
    "print(tup1)"
   ]
  },
  {
   "cell_type": "code",
   "execution_count": 50,
   "metadata": {},
   "outputs": [
    {
     "name": "stdout",
     "output_type": "stream",
     "text": [
      "5\n"
     ]
    }
   ],
   "source": [
    "print(tup1[4])"
   ]
  },
  {
   "cell_type": "code",
   "execution_count": 51,
   "metadata": {},
   "outputs": [
    {
     "ename": "IndexError",
     "evalue": "tuple index out of range",
     "output_type": "error",
     "traceback": [
      "\u001b[1;31m---------------------------------------------------------------------------\u001b[0m",
      "\u001b[1;31mIndexError\u001b[0m                                Traceback (most recent call last)",
      "\u001b[1;32m<ipython-input-51-37f5c7d8f529>\u001b[0m in \u001b[0;36m<module>\u001b[1;34m\u001b[0m\n\u001b[0;32m      1\u001b[0m \u001b[1;31m# Just like List, index out ot bound expection is thrown if tried to access index that is out of bound\u001b[0m\u001b[1;33m\u001b[0m\u001b[1;33m\u001b[0m\u001b[1;33m\u001b[0m\u001b[0m\n\u001b[1;32m----> 2\u001b[1;33m \u001b[0mprint\u001b[0m\u001b[1;33m(\u001b[0m\u001b[0mtup1\u001b[0m\u001b[1;33m[\u001b[0m\u001b[1;36m8\u001b[0m\u001b[1;33m]\u001b[0m\u001b[1;33m)\u001b[0m\u001b[1;33m\u001b[0m\u001b[1;33m\u001b[0m\u001b[0m\n\u001b[0m",
      "\u001b[1;31mIndexError\u001b[0m: tuple index out of range"
     ]
    }
   ],
   "source": [
    " # Just like List, index out ot bound expection is thrown if tried to access index that is out of bound\n",
    "print(tup1[8])"
   ]
  },
  {
   "cell_type": "code",
   "execution_count": 53,
   "metadata": {},
   "outputs": [
    {
     "name": "stdout",
     "output_type": "stream",
     "text": [
      "1\t2\t3\t4\t5\t"
     ]
    }
   ],
   "source": [
    "# Just like list, tuple is iterable and you can loop over it\n",
    "for num in tup1:\n",
    "    print(num, end=\"\\t\")"
   ]
  },
  {
   "cell_type": "code",
   "execution_count": 55,
   "metadata": {},
   "outputs": [
    {
     "name": "stdout",
     "output_type": "stream",
     "text": [
      "0 1\n",
      "1 2\n",
      "2 3\n",
      "3 4\n",
      "4 5\n"
     ]
    }
   ],
   "source": [
    "for index, num in enumerate(tup1):\n",
    "    print(index,num)"
   ]
  },
  {
   "cell_type": "code",
   "execution_count": 71,
   "metadata": {},
   "outputs": [
    {
     "name": "stdout",
     "output_type": "stream",
     "text": [
      "19 a\n",
      "20 b\n",
      "21 b\n",
      "22 c\n"
     ]
    }
   ],
   "source": [
    "tup =('a','b','b','c')\n",
    "for index, char in enumerate(tup, start=19):\n",
    "    print(index, char)"
   ]
  },
  {
   "cell_type": "code",
   "execution_count": 64,
   "metadata": {},
   "outputs": [],
   "source": [
    "tup_single = ('a')\n",
    "tup_single1 = ('a',)"
   ]
  },
  {
   "cell_type": "code",
   "execution_count": 61,
   "metadata": {},
   "outputs": [
    {
     "data": {
      "text/plain": [
       "str"
      ]
     },
     "execution_count": 61,
     "metadata": {},
     "output_type": "execute_result"
    }
   ],
   "source": [
    "type(tup_single)"
   ]
  },
  {
   "cell_type": "code",
   "execution_count": 65,
   "metadata": {},
   "outputs": [
    {
     "data": {
      "text/plain": [
       "tuple"
      ]
     },
     "execution_count": 65,
     "metadata": {},
     "output_type": "execute_result"
    }
   ],
   "source": [
    "type(tup_single1)"
   ]
  },
  {
   "cell_type": "code",
   "execution_count": 72,
   "metadata": {},
   "outputs": [
    {
     "ename": "TypeError",
     "evalue": "'tuple' object does not support item assignment",
     "output_type": "error",
     "traceback": [
      "\u001b[1;31m---------------------------------------------------------------------------\u001b[0m",
      "\u001b[1;31mTypeError\u001b[0m                                 Traceback (most recent call last)",
      "\u001b[1;32m<ipython-input-72-a90fecc2fa8f>\u001b[0m in \u001b[0;36m<module>\u001b[1;34m\u001b[0m\n\u001b[1;32m----> 1\u001b[1;33m \u001b[0mtup\u001b[0m\u001b[1;33m[\u001b[0m\u001b[1;36m2\u001b[0m\u001b[1;33m]\u001b[0m\u001b[1;33m=\u001b[0m\u001b[1;36m5\u001b[0m\u001b[1;33m\u001b[0m\u001b[1;33m\u001b[0m\u001b[0m\n\u001b[0m",
      "\u001b[1;31mTypeError\u001b[0m: 'tuple' object does not support item assignment"
     ]
    }
   ],
   "source": [
    "tup[2]=5"
   ]
  },
  {
   "cell_type": "code",
   "execution_count": 76,
   "metadata": {},
   "outputs": [
    {
     "data": {
      "text/plain": [
       "('a', 'b', 'b', 'c', 5, 5, 5, 6, 7)"
      ]
     },
     "execution_count": 76,
     "metadata": {},
     "output_type": "execute_result"
    }
   ],
   "source": [
    "tup = tup +(5,)\n",
    "tup_merge = (6,7)\n",
    "tup + tup_merge"
   ]
  },
  {
   "cell_type": "code",
   "execution_count": 82,
   "metadata": {},
   "outputs": [
    {
     "data": {
      "text/plain": [
       "3"
      ]
     },
     "execution_count": 82,
     "metadata": {},
     "output_type": "execute_result"
    }
   ],
   "source": [
    "tup*2\n",
    "tup.count(5)"
   ]
  },
  {
   "cell_type": "markdown",
   "metadata": {},
   "source": [
    "## Value unpacking"
   ]
  },
  {
   "cell_type": "code",
   "execution_count": 84,
   "metadata": {},
   "outputs": [
    {
     "name": "stdout",
     "output_type": "stream",
     "text": [
      "1\n",
      "2\n",
      "3\n"
     ]
    }
   ],
   "source": [
    "a, b, c = (1,2,3,)\n",
    "print (a)\n",
    "print (b)\n",
    "print (c)"
   ]
  },
  {
   "cell_type": "code",
   "execution_count": 85,
   "metadata": {},
   "outputs": [
    {
     "data": {
      "text/plain": [
       "int"
      ]
     },
     "execution_count": 85,
     "metadata": {},
     "output_type": "execute_result"
    }
   ],
   "source": [
    "type(a)"
   ]
  },
  {
   "cell_type": "code",
   "execution_count": 86,
   "metadata": {
    "scrolled": true
   },
   "outputs": [
    {
     "ename": "ValueError",
     "evalue": "too many values to unpack (expected 3)",
     "output_type": "error",
     "traceback": [
      "\u001b[1;31m---------------------------------------------------------------------------\u001b[0m",
      "\u001b[1;31mValueError\u001b[0m                                Traceback (most recent call last)",
      "\u001b[1;32m<ipython-input-86-58e056629e5d>\u001b[0m in \u001b[0;36m<module>\u001b[1;34m\u001b[0m\n\u001b[1;32m----> 1\u001b[1;33m \u001b[0ma\u001b[0m\u001b[1;33m,\u001b[0m \u001b[0mb\u001b[0m\u001b[1;33m,\u001b[0m \u001b[0mc\u001b[0m \u001b[1;33m=\u001b[0m\u001b[0mrange\u001b[0m\u001b[1;33m(\u001b[0m\u001b[1;36m4\u001b[0m\u001b[1;33m)\u001b[0m\u001b[1;33m\u001b[0m\u001b[1;33m\u001b[0m\u001b[0m\n\u001b[0m\u001b[0;32m      2\u001b[0m \u001b[1;31m# This results in error because 4 values are being unpacked to 3 variables\u001b[0m\u001b[1;33m\u001b[0m\u001b[1;33m\u001b[0m\u001b[1;33m\u001b[0m\u001b[0m\n",
      "\u001b[1;31mValueError\u001b[0m: too many values to unpack (expected 3)"
     ]
    }
   ],
   "source": [
    "a, b, c =range(4)\n",
    "# This results in error because 4 values are being unpacked to 3 variables"
   ]
  },
  {
   "cell_type": "code",
   "execution_count": 87,
   "metadata": {},
   "outputs": [
    {
     "name": "stdout",
     "output_type": "stream",
     "text": [
      "7\n",
      "3\n"
     ]
    }
   ],
   "source": [
    "# Swapping two values\n",
    "a = 3\n",
    "b = 7\n",
    "a, b = (b, a)\n",
    "print (a)\n",
    "print(b)"
   ]
  },
  {
   "cell_type": "markdown",
   "metadata": {},
   "source": [
    "## Type conversion"
   ]
  },
  {
   "cell_type": "code",
   "execution_count": 90,
   "metadata": {},
   "outputs": [
    {
     "name": "stdout",
     "output_type": "stream",
     "text": [
      "<class 'str'>\n",
      "<class 'list'>\n"
     ]
    }
   ],
   "source": [
    "a= (1,2,3)\n",
    "str_a= str(a)\n",
    "print(type(str_a))\n",
    "list_a = list(a)\n",
    "print(type(list_a))"
   ]
  },
  {
   "cell_type": "code",
   "execution_count": null,
   "metadata": {
    "scrolled": true
   },
   "outputs": [],
   "source": []
  },
  {
   "cell_type": "code",
   "execution_count": null,
   "metadata": {},
   "outputs": [],
   "source": []
  },
  {
   "cell_type": "markdown",
   "metadata": {},
   "source": [
    "# Sets"
   ]
  },
  {
   "cell_type": "code",
   "execution_count": 1,
   "metadata": {},
   "outputs": [],
   "source": [
    "set1={'a','b','c','e','i'}\n",
    "set2={'a','e','i','o','u'}"
   ]
  },
  {
   "cell_type": "code",
   "execution_count": 3,
   "metadata": {},
   "outputs": [
    {
     "data": {
      "text/plain": [
       "{'a', 'e', 'i'}"
      ]
     },
     "execution_count": 3,
     "metadata": {},
     "output_type": "execute_result"
    }
   ],
   "source": [
    "set1.intersection(set2)"
   ]
  },
  {
   "cell_type": "code",
   "execution_count": 4,
   "metadata": {},
   "outputs": [
    {
     "data": {
      "text/plain": [
       "{'a', 'b', 'c', 'e', 'i', 'o', 'u'}"
      ]
     },
     "execution_count": 4,
     "metadata": {},
     "output_type": "execute_result"
    }
   ],
   "source": [
    "set1.union(set2)"
   ]
  },
  {
   "cell_type": "code",
   "execution_count": 6,
   "metadata": {},
   "outputs": [],
   "source": [
    "set3=set1.difference(set2)"
   ]
  },
  {
   "cell_type": "code",
   "execution_count": null,
   "metadata": {},
   "outputs": [],
   "source": []
  },
  {
   "cell_type": "code",
   "execution_count": null,
   "metadata": {},
   "outputs": [],
   "source": []
  },
  {
   "cell_type": "markdown",
   "metadata": {},
   "source": [
    "## Set methods"
   ]
  },
  {
   "cell_type": "code",
   "execution_count": null,
   "metadata": {},
   "outputs": [],
   "source": []
  },
  {
   "cell_type": "code",
   "execution_count": null,
   "metadata": {},
   "outputs": [],
   "source": []
  },
  {
   "cell_type": "code",
   "execution_count": null,
   "metadata": {},
   "outputs": [],
   "source": []
  },
  {
   "cell_type": "code",
   "execution_count": null,
   "metadata": {},
   "outputs": [],
   "source": []
  }
 ],
 "metadata": {
  "kernelspec": {
   "display_name": "Python 3",
   "language": "python",
   "name": "python3"
  },
  "language_info": {
   "codemirror_mode": {
    "name": "ipython",
    "version": 3
   },
   "file_extension": ".py",
   "mimetype": "text/x-python",
   "name": "python",
   "nbconvert_exporter": "python",
   "pygments_lexer": "ipython3",
   "version": "3.7.1"
  }
 },
 "nbformat": 4,
 "nbformat_minor": 1
}
